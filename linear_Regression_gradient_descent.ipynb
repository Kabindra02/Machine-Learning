{
  "nbformat": 4,
  "nbformat_minor": 0,
  "metadata": {
    "colab": {
      "provenance": [],
      "authorship_tag": "ABX9TyPEuGHfBBZcsG/MjtjssHga",
      "include_colab_link": true
    },
    "kernelspec": {
      "name": "python3",
      "display_name": "Python 3"
    },
    "language_info": {
      "name": "python"
    }
  },
  "cells": [
    {
      "cell_type": "markdown",
      "metadata": {
        "id": "view-in-github",
        "colab_type": "text"
      },
      "source": [
        "<a href=\"https://colab.research.google.com/github/Kabindra02/Machine-Learning/blob/main/linear_Regression_gradient_descent.ipynb\" target=\"_parent\"><img src=\"https://colab.research.google.com/assets/colab-badge.svg\" alt=\"Open In Colab\"/></a>"
      ]
    },
    {
      "cell_type": "code",
      "execution_count": null,
      "metadata": {
        "colab": {
          "base_uri": "https://localhost:8080/"
        },
        "id": "bZBdozVmir2m",
        "outputId": "3f4cab1c-6b3a-41fb-8d51-01ccf9168522"
      },
      "outputs": [
        {
          "output_type": "stream",
          "name": "stdout",
          "text": [
            "Features:  ['age', 'sex', 'bmi', 'bp', 's1', 's2', 's3', 's4', 's5', 's6']\n"
          ]
        }
      ],
      "source": [
        "from sklearn.datasets import load_diabetes\n",
        "\n",
        "diabetes = load_diabetes()\n",
        "\n",
        "print(\"Features: \", diabetes.feature_names)"
      ]
    },
    {
      "cell_type": "code",
      "source": [
        "X = diabetes.data\n",
        "X.shape #number of samples, number of features\n",
        "\n",
        "m = X.shape[0]  #number of samples\n",
        "n = X.shape[1]  #number of features\n",
        "\n",
        "print(m, n)"
      ],
      "metadata": {
        "colab": {
          "base_uri": "https://localhost:8080/"
        },
        "id": "g1rQFUP5kGRo",
        "outputId": "cd165c8a-cfc1-42be-85b2-bc8b349f95b7"
      },
      "execution_count": null,
      "outputs": [
        {
          "output_type": "stream",
          "name": "stdout",
          "text": [
            "442 10\n"
          ]
        }
      ]
    },
    {
      "cell_type": "code",
      "source": [
        "y= diabetes.target"
      ],
      "metadata": {
        "id": "d2cVVQsukYAv"
      },
      "execution_count": null,
      "outputs": []
    },
    {
      "cell_type": "code",
      "source": [
        "assert m == y.shape[0]"
      ],
      "metadata": {
        "id": "kuAbenXDkiX8"
      },
      "execution_count": null,
      "outputs": []
    },
    {
      "cell_type": "code",
      "source": [
        "from sklearn.model_selection import train_test_split\n",
        "\n",
        "X_train, X_test, y_train, y_test = train_test_split(X, y, test_size=0.3)\n",
        "\n",
        "assert len(X_train)  == len(y_train)\n",
        "assert len(X_test)   == len(y_test)"
      ],
      "metadata": {
        "id": "pIiZyNallSMz"
      },
      "execution_count": null,
      "outputs": []
    },
    {
      "cell_type": "code",
      "source": [
        "from sklearn.preprocessing import StandardScaler\n",
        "scaler = StandardScaler()\n",
        "\n",
        "X_train = scaler.fit_transform(X_train)\n",
        "X_test = scaler.transform(X_test)"
      ],
      "metadata": {
        "id": "nKoX9aCOmaJa"
      },
      "execution_count": null,
      "outputs": []
    },
    {
      "cell_type": "code",
      "source": [
        "import numpy as np\n",
        "intercept = np.ones((X_train.shape[0], 1))\n",
        "\n",
        "# concatenate the intercept based on axis=1\n",
        "X_train = np.concatenate((intercept, X_train), axis=1)\n",
        "\n",
        "# np.ones((shape))\n",
        "intercept = np.ones((X_test.shape[0], 1))\n",
        "\n",
        "# concatenate the intercept based on axis=1\n",
        "X_test = np.concatenate((intercept, X_test), axis=1)"
      ],
      "metadata": {
        "id": "s60053TvmoVt"
      },
      "execution_count": null,
      "outputs": []
    },
    {
      "cell_type": "code",
      "source": [
        "from time import time\n",
        "assert X_train.shape[0] == y_train.shape[0]\n",
        "theta = np.zeros(X_train.shape[1])\n",
        "lr = 0.1\n",
        "\n",
        "max_iter = 5000\n",
        "\n",
        "def h_theta(X, theta):\n",
        "    return X @ theta\n",
        "\n",
        "def mse(yhat, y):\n",
        "    return ((yhat - y)**2).sum() / yhat.shape[0]\n",
        "\n",
        "def gradient(X, error):\n",
        "    m = X.shape[0]\n",
        "    return (X.T @ error) / X.shape[0]\n",
        "\n",
        "start = time()\n",
        "\n",
        "# define your for loop\n",
        "for i in range(max_iter):\n",
        "  yhat = h_theta(X_train, theta)\n",
        "  error = yhat - y_train\n",
        "  grad = gradient(X_train, error)\n",
        "  theta = theta - lr * grad\n",
        "time_taken = time() - start\n",
        "theta\n"
      ],
      "metadata": {
        "colab": {
          "base_uri": "https://localhost:8080/"
        },
        "id": "44mk-Dfamuy0",
        "outputId": "c85a2e20-5328-4fc2-e53a-2f2eb745df42"
      },
      "execution_count": null,
      "outputs": [
        {
          "output_type": "execute_result",
          "data": {
            "text/plain": [
              "array([152.68932039,  -1.47086579, -10.81909337,  25.75350941,\n",
              "        15.55779929, -40.33759551,  27.73476899,   4.65092407,\n",
              "         6.47744016,  37.73297446,   2.85932687])"
            ]
          },
          "metadata": {},
          "execution_count": 33
        }
      ]
    },
    {
      "cell_type": "code",
      "source": [
        "yhat = h_theta(X_test, theta)\n",
        "\n",
        "# 2. Calculate mean squared errors\n",
        "mse = mse(yhat, y_test)\n",
        "\n",
        "# print the mse\n",
        "print(\"MSE: \", mse)\n",
        "print(\"Time used: \", time_taken)"
      ],
      "metadata": {
        "colab": {
          "base_uri": "https://localhost:8080/"
        },
        "id": "7BHimb22nqTd",
        "outputId": "a3ca59e9-19e1-4a94-d257-e595a556115c"
      },
      "execution_count": null,
      "outputs": [
        {
          "output_type": "stream",
          "name": "stdout",
          "text": [
            "MSE:  3054.2514929587637\n",
            "Time used:  0.21889734268188477\n"
          ]
        }
      ]
    },
    {
      "cell_type": "code",
      "source": [
        "import matplotlib.pyplot as plt\n",
        "\n",
        "plt.figure(figsize=(5,5))\n",
        "plt.scatter(y_test, yhat, c='crimson')\n",
        "\n",
        "p1 = max(max(yhat), max(y_test))\n",
        "p2 = min(min(yhat), min(y_test))\n",
        "plt.plot([p1, p2], [p1, p2], 'b-')\n",
        "plt.xlabel('True Values', fontsize=15)\n",
        "plt.ylabel('Predictions', fontsize=15)\n",
        "plt.axis('equal')\n",
        "plt.show()"
      ],
      "metadata": {
        "colab": {
          "base_uri": "https://localhost:8080/",
          "height": 471
        },
        "id": "dfmfc1gpoJlL",
        "outputId": "ddb7d354-d450-4bf1-f966-100d077b88db"
      },
      "execution_count": null,
      "outputs": [
        {
          "output_type": "display_data",
          "data": {
            "text/plain": [
              "<Figure size 500x500 with 1 Axes>"
            ],
            "image/png": "[encoded data removed]"
          },
          "metadata": {}
        }
      ]
    },
    {
      "cell_type": "code",
      "source": [],
      "metadata": {
        "id": "oqPBQKgnoSr9"
      },
      "execution_count": null,
      "outputs": []
    }
  ]
}